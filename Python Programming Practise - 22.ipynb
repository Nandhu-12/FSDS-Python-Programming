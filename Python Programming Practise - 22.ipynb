{
 "cells": [
  {
   "cell_type": "markdown",
   "id": "3e1d5ae6",
   "metadata": {},
   "source": [
    "# Python Programming Practise - 22"
   ]
  },
  {
   "cell_type": "markdown",
   "id": "b2993520",
   "metadata": {},
   "source": [
    "1) Create a function that takes three parameters where:\n",
    "     \n",
    "x is the start of the range (inclusive).                                                                                       \n",
    "y is the end of the range (inclusive).                                                                                          \n",
    "n is the divisor to be checked against.                                           \n",
    "\n",
    "Return an ordered list with numbers in the range that are divisible by the third parameter n.                                  \n",
    "Return an empty list if there are no numbers that are divisible by n."
   ]
  },
  {
   "cell_type": "code",
   "execution_count": 16,
   "id": "a54df50b",
   "metadata": {},
   "outputs": [
    {
     "data": {
      "text/plain": [
       "[3, 6, 9]"
      ]
     },
     "execution_count": 16,
     "metadata": {},
     "output_type": "execute_result"
    }
   ],
   "source": [
    "def param(x,y,n) :\n",
    "    r = []\n",
    "    for i in range(x-1,y+1,n):\n",
    "        if i%n == 0 :\n",
    "            r.append(i)\n",
    "    r.pop(0)\n",
    "    return r   \n",
    "param(1,10,3)"
   ]
  },
  {
   "cell_type": "markdown",
   "id": "c6811058",
   "metadata": {},
   "source": [
    "2) Create a function that takes in two lists and returns True if the second list follows the first list\n",
    "by one element, and False otherwise. In other words, determine if the second list is the first\n",
    "list shifted to the right by 1."
   ]
  },
  {
   "cell_type": "code",
   "execution_count": 18,
   "id": "16069bc8",
   "metadata": {},
   "outputs": [
    {
     "data": {
      "text/plain": [
       "True"
      ]
     },
     "execution_count": 18,
     "metadata": {},
     "output_type": "execute_result"
    }
   ],
   "source": [
    "def two_listt(a,b) :\n",
    "    \n",
    "    if a[0] == b[1] :\n",
    "        return True\n",
    "    else :\n",
    "        return False\n",
    "\n",
    "two_listt([1,2],[5,1])"
   ]
  },
  {
   "cell_type": "markdown",
   "id": "6f41f1d1",
   "metadata": {},
   "source": [
    "3) A group of friends have decided to start a secret society. The name will be the first letter of\n",
    "each of their names, sorted in alphabetical order.\n",
    "\n",
    "Create a function that takes in a list of names and returns the name of the secret society."
   ]
  },
  {
   "cell_type": "code",
   "execution_count": 23,
   "id": "1353b1ce",
   "metadata": {},
   "outputs": [
    {
     "name": "stdout",
     "output_type": "stream",
     "text": [
      "ASM"
     ]
    }
   ],
   "source": [
    "def secret(word):\n",
    "    z = []\n",
    "    for i in word:\n",
    "        z.append(i[0])\n",
    "\n",
    "    for i in z:\n",
    "        print(i, end=\"\")\n",
    "        \n",
    "secret([\"Adam\",\"Sarah\",\"Malcolm\"])"
   ]
  },
  {
   "cell_type": "markdown",
   "id": "61070e1d",
   "metadata": {},
   "source": [
    "4) An isogram is a word that has no duplicate letters. Create a function that takes a string and\n",
    "returns either True or False depending on whether or not it's an \"isogram\""
   ]
  },
  {
   "cell_type": "code",
   "execution_count": 71,
   "id": "c248fe0b",
   "metadata": {},
   "outputs": [
    {
     "data": {
      "text/plain": [
       "True"
      ]
     },
     "execution_count": 71,
     "metadata": {},
     "output_type": "execute_result"
    }
   ],
   "source": [
    "def iso(a):\n",
    "    z = []\n",
    "    for i in a:\n",
    "        z.append(a.count(i))\n",
    "    \n",
    "    b = set(z)\n",
    "    c = list(b)\n",
    "    if c[-1] != 1:\n",
    "        return False\n",
    "    else:\n",
    "        return True\n",
    "    \n",
    "   \n",
    "iso('Algorism')"
   ]
  },
  {
   "cell_type": "markdown",
   "id": "52c23974",
   "metadata": {},
   "source": [
    "5) Create a function that takes a string and returns True or False, depending on whether the\n",
    "characters are in order or not."
   ]
  },
  {
   "cell_type": "code",
   "execution_count": 87,
   "id": "40ac0db3",
   "metadata": {},
   "outputs": [
    {
     "data": {
      "text/plain": [
       "True"
      ]
     },
     "execution_count": 87,
     "metadata": {},
     "output_type": "execute_result"
    }
   ],
   "source": [
    "\n",
    "def order(a):\n",
    "    z = list(a)\n",
    "    b = sorted(list(set(a)))\n",
    "    if z == b:\n",
    "        return True\n",
    "    else:\n",
    "        return False\n",
    "\n",
    "a = 'abc'\n",
    "order(a)"
   ]
  },
  {
   "cell_type": "code",
   "execution_count": null,
   "id": "b07579e8",
   "metadata": {},
   "outputs": [],
   "source": []
  }
 ],
 "metadata": {
  "kernelspec": {
   "display_name": "Python 3 (ipykernel)",
   "language": "python",
   "name": "python3"
  },
  "language_info": {
   "codemirror_mode": {
    "name": "ipython",
    "version": 3
   },
   "file_extension": ".py",
   "mimetype": "text/x-python",
   "name": "python",
   "nbconvert_exporter": "python",
   "pygments_lexer": "ipython3",
   "version": "3.9.12"
  }
 },
 "nbformat": 4,
 "nbformat_minor": 5
}
