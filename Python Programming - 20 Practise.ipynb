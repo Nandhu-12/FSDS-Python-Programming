{
 "cells": [
  {
   "cell_type": "markdown",
   "id": "3d9078ed",
   "metadata": {},
   "source": [
    "# Python Programming - 20 Practise"
   ]
  },
  {
   "cell_type": "markdown",
   "id": "662c3ccd",
   "metadata": {},
   "source": [
    "1) Create a function that takes a list of strings and integers, and filters out the list so that it\n",
    "returns a list of integers only."
   ]
  },
  {
   "cell_type": "code",
   "execution_count": 1,
   "id": "1f6f30d3",
   "metadata": {},
   "outputs": [
    {
     "data": {
      "text/plain": [
       "[1, 2, 3, 4]"
      ]
     },
     "execution_count": 1,
     "metadata": {},
     "output_type": "execute_result"
    }
   ],
   "source": [
    "def integers_only(listt):\n",
    "    new = []\n",
    "    for i in listt:\n",
    "        if type(i) == int:\n",
    "            new.append(i)\n",
    "            \n",
    "    return new\n",
    "listt = [1,2,3,\"a\",\"b\",4]\n",
    "integers_only(listt)"
   ]
  },
  {
   "cell_type": "markdown",
   "id": "db49034f",
   "metadata": {},
   "source": [
    "2) Given a list of numbers, create a function which returns the list but with each element's\n",
    "index in the list added to itself. This means you add 0 to the number at index 0, add 1 to the\n",
    "number at index 1, etc..."
   ]
  },
  {
   "cell_type": "code",
   "execution_count": 7,
   "id": "0da5e3ea",
   "metadata": {},
   "outputs": [
    {
     "data": {
      "text/plain": [
       "[5, 5, 5, 5, 5]"
      ]
     },
     "execution_count": 7,
     "metadata": {},
     "output_type": "execute_result"
    }
   ],
   "source": [
    "def index_sum(listt):\n",
    "    new = []\n",
    "    for i in listt:\n",
    "        new.append(listt.index(i) + i)\n",
    "    return new\n",
    "\n",
    "listt = [5,4,3,2,1]\n",
    "index_sum(listt)"
   ]
  },
  {
   "cell_type": "markdown",
   "id": "cf384c11",
   "metadata": {},
   "source": [
    "3) Create a function that takes the height and radius of a cone as arguments and returns the\n",
    "volume of the cone rounded to the nearest hundredth. See the resources tab for the formula."
   ]
  },
  {
   "cell_type": "code",
   "execution_count": 10,
   "id": "c31e381b",
   "metadata": {},
   "outputs": [
    {
     "data": {
      "text/plain": [
       "12.571428571428571"
      ]
     },
     "execution_count": 10,
     "metadata": {},
     "output_type": "execute_result"
    }
   ],
   "source": [
    "def cone(h,r):\n",
    "    pi = 22/7\n",
    "    result = (pi)*(r*r)*(h/3)\n",
    "    return result\n",
    "\n",
    "cone(3,2)"
   ]
  },
  {
   "cell_type": "markdown",
   "id": "7137f483",
   "metadata": {},
   "source": [
    "4) This Triangular Number Sequence is generated from a pattern of dots that form a triangle.                                   \n",
    "The first 5 numbers of the sequence, or dots, are:\n",
    "1, 3, 6, 10, 15                                                                                                                \n",
    "This means that the first triangle has just one dot, the second one has three dots, the third one\n",
    "has 6 dots and so on.                                                                                                          \n",
    "Write a function that gives the number of dots with its corresponding triangle number of the\n",
    "sequence."
   ]
  },
  {
   "cell_type": "code",
   "execution_count": 19,
   "id": "e8c16aee",
   "metadata": {},
   "outputs": [
    {
     "data": {
      "text/plain": [
       "21"
      ]
     },
     "execution_count": 19,
     "metadata": {},
     "output_type": "execute_result"
    }
   ],
   "source": [
    "def dots(t):\n",
    "    a = 0\n",
    "    for i in range(1,t+1):\n",
    "        a += i\n",
    "    return a\n",
    "dots(6)"
   ]
  },
  {
   "cell_type": "markdown",
   "id": "a1c9cbd3",
   "metadata": {},
   "source": [
    "5) Create a function that takes a list of numbers between 1 and 10 (excluding one number) and\n",
    "returns the missing number."
   ]
  },
  {
   "cell_type": "code",
   "execution_count": 23,
   "id": "46cd0119",
   "metadata": {},
   "outputs": [
    {
     "data": {
      "text/plain": [
       "[10]"
      ]
     },
     "execution_count": 23,
     "metadata": {},
     "output_type": "execute_result"
    }
   ],
   "source": [
    "def missing(listt):\n",
    "    num = [1,2,3,4,5,6,7,8,9,10]\n",
    "    z = []\n",
    "    for i in num:\n",
    "        if i in listt:\n",
    "            pass\n",
    "        else:\n",
    "            z.append(i)\n",
    "    \n",
    "    return z\n",
    "missing([7,2,3,6,5,9,1,4,8])"
   ]
  },
  {
   "cell_type": "code",
   "execution_count": null,
   "id": "3673cf03",
   "metadata": {},
   "outputs": [],
   "source": []
  }
 ],
 "metadata": {
  "kernelspec": {
   "display_name": "Python 3 (ipykernel)",
   "language": "python",
   "name": "python3"
  },
  "language_info": {
   "codemirror_mode": {
    "name": "ipython",
    "version": 3
   },
   "file_extension": ".py",
   "mimetype": "text/x-python",
   "name": "python",
   "nbconvert_exporter": "python",
   "pygments_lexer": "ipython3",
   "version": "3.9.12"
  }
 },
 "nbformat": 4,
 "nbformat_minor": 5
}
