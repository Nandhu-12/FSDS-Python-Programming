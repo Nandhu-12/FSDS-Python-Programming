{
 "cells": [
  {
   "cell_type": "markdown",
   "id": "10e0a094",
   "metadata": {},
   "source": [
    "# Python Programming - 8 Practise"
   ]
  },
  {
   "cell_type": "markdown",
   "id": "402e30f8",
   "metadata": {},
   "source": [
    "# 1) Write a Python Program to Add Two Matrices?"
   ]
  },
  {
   "cell_type": "code",
   "execution_count": 25,
   "id": "b83a0476",
   "metadata": {},
   "outputs": [
    {
     "data": {
      "text/plain": [
       "[[8, 10, 12], [14, 16, 18]]"
      ]
     },
     "execution_count": 25,
     "metadata": {},
     "output_type": "execute_result"
    }
   ],
   "source": [
    "a = [[1,2,3],\n",
    "     [4,5,6]]\n",
    "\n",
    "b = [[7,8,9],\n",
    "    [10,11,12]]\n",
    "\n",
    "result = [[a[i][j] + b[i][j] for j in range(len(a[0]))] for i in range(len(a))]\n",
    "\n",
    "result"
   ]
  },
  {
   "cell_type": "markdown",
   "id": "661de208",
   "metadata": {},
   "source": [
    "# 2) Write a Python Program to Multiply Two Matrices?"
   ]
  },
  {
   "cell_type": "code",
   "execution_count": 15,
   "id": "5ed9a890",
   "metadata": {},
   "outputs": [
    {
     "data": {
      "text/plain": [
       "[[7, 16, 27], [40, 55, 72]]"
      ]
     },
     "execution_count": 15,
     "metadata": {},
     "output_type": "execute_result"
    }
   ],
   "source": [
    "a = [[1,2,3],\n",
    "     [4,5,6]]\n",
    "\n",
    "b = [[7,8,9],\n",
    "    [10,11,12]]\n",
    "\n",
    "result = [[0,0,0],\n",
    "          [0,0,0]]\n",
    "\n",
    "for i in range(len(a)):\n",
    "    for j in range(len(a[0])) :\n",
    "        result[i][j] = a[i][j] * b[i][j]\n",
    "\n",
    "result"
   ]
  },
  {
   "cell_type": "markdown",
   "id": "5507b6e3",
   "metadata": {},
   "source": [
    "# 3) Write a Python Program to Transpose a Matrix?"
   ]
  },
  {
   "cell_type": "code",
   "execution_count": 21,
   "id": "b3afb7b7",
   "metadata": {},
   "outputs": [
    {
     "data": {
      "text/plain": [
       "[[1, 4], [2, 5], [3, 6]]"
      ]
     },
     "execution_count": 21,
     "metadata": {},
     "output_type": "execute_result"
    }
   ],
   "source": [
    "a = [[1,2,3],\n",
    "     [4,5,6]]\n",
    "\n",
    "result = [[a[j][i]  for j in range(len(a))] for i in range(len(a[0]))]\n",
    "\n",
    "result"
   ]
  },
  {
   "cell_type": "markdown",
   "id": "5394fa84",
   "metadata": {},
   "source": [
    "# 4) Write a Python Program to Sort Words in Alphabetic Order?"
   ]
  },
  {
   "cell_type": "code",
   "execution_count": 35,
   "id": "2cc60dac",
   "metadata": {},
   "outputs": [
    {
     "name": "stdout",
     "output_type": "stream",
     "text": [
      "a\n",
      "character\n",
      "what\n"
     ]
    }
   ],
   "source": [
    "words = 'what a CHARACTER'\n",
    "res = [word.lower() for word in words.split( )]\n",
    "res.sort()\n",
    "\n",
    "for word in res:\n",
    "    print(word)"
   ]
  },
  {
   "cell_type": "markdown",
   "id": "f28be3fd",
   "metadata": {},
   "source": [
    "# 5) Write a Python Program to Remove Punctuation From a String?"
   ]
  },
  {
   "cell_type": "code",
   "execution_count": 51,
   "id": "6c81514f",
   "metadata": {},
   "outputs": [
    {
     "name": "stdout",
     "output_type": "stream",
     "text": [
      "one of my friends\n"
     ]
    }
   ],
   "source": [
    "words = \"one[] of my-- ?friend's\"\n",
    "\n",
    "punctuations = '''!()-[]{};:'\"\\,<>./?@#$%^&*_~'''\n",
    "\n",
    "result = \"\"\n",
    "\n",
    "for i in words:\n",
    "    if i not in punctuations:\n",
    "        result = result + i\n",
    "        \n",
    "print(result)"
   ]
  },
  {
   "cell_type": "code",
   "execution_count": null,
   "id": "805c2af3",
   "metadata": {},
   "outputs": [],
   "source": []
  }
 ],
 "metadata": {
  "kernelspec": {
   "display_name": "Python 3 (ipykernel)",
   "language": "python",
   "name": "python3"
  },
  "language_info": {
   "codemirror_mode": {
    "name": "ipython",
    "version": 3
   },
   "file_extension": ".py",
   "mimetype": "text/x-python",
   "name": "python",
   "nbconvert_exporter": "python",
   "pygments_lexer": "ipython3",
   "version": "3.9.12"
  }
 },
 "nbformat": 4,
 "nbformat_minor": 5
}
