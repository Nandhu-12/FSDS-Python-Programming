{
 "cells": [
  {
   "cell_type": "markdown",
   "id": "c0891c86",
   "metadata": {},
   "source": [
    "# FSDS - Python Programming - Assignment 10"
   ]
  },
  {
   "cell_type": "markdown",
   "id": "9152e68a",
   "metadata": {},
   "source": [
    "1. Write a Python program to find sum of elements in list?"
   ]
  },
  {
   "cell_type": "code",
   "execution_count": 5,
   "id": "a35ce07d",
   "metadata": {},
   "outputs": [
    {
     "name": "stdout",
     "output_type": "stream",
     "text": [
      "24.8\n"
     ]
    }
   ],
   "source": [
    "def total(l):\n",
    "    try:\n",
    "        result = 0\n",
    "        for i in range(len(l)):\n",
    "            result += l[i]\n",
    "        return result\n",
    "    except:\n",
    "        print('Enter correct values in list')\n",
    "        \n",
    "    \n",
    "l = [5,2,4,10,1.5,2.3]\n",
    "print(total(l))"
   ]
  },
  {
   "cell_type": "markdown",
   "id": "3991e0f4",
   "metadata": {},
   "source": [
    "2. Write a Python program to Multiply all numbers in the list?"
   ]
  },
  {
   "cell_type": "code",
   "execution_count": 8,
   "id": "7c476c30",
   "metadata": {},
   "outputs": [
    {
     "name": "stdout",
     "output_type": "stream",
     "text": [
      "1380.0\n"
     ]
    }
   ],
   "source": [
    "def mul(l):\n",
    "    try:\n",
    "        result = 1\n",
    "        for i in range(len(l)):\n",
    "            result *= l[i]\n",
    "        return result\n",
    "    except:\n",
    "        print('Enter correct values in list')\n",
    "        \n",
    "    \n",
    "l = [5,2,4,10,1.5,2.3]\n",
    "print(mul(l))"
   ]
  },
  {
   "cell_type": "markdown",
   "id": "2fd9feba",
   "metadata": {},
   "source": [
    "3. Write a Python program to find smallest number in a list?"
   ]
  },
  {
   "cell_type": "code",
   "execution_count": 11,
   "id": "208b05d1",
   "metadata": {},
   "outputs": [
    {
     "name": "stdout",
     "output_type": "stream",
     "text": [
      "1.5\n"
     ]
    }
   ],
   "source": [
    "def small(l):\n",
    "    try:\n",
    "        l.sort()\n",
    "        return l[0]\n",
    "    except:\n",
    "        print('Enter correct values in list')\n",
    "        \n",
    "    \n",
    "l = [5,2,4,10,1.5,2.3]\n",
    "print(small(l))"
   ]
  },
  {
   "cell_type": "markdown",
   "id": "08576df5",
   "metadata": {},
   "source": [
    "4. Write a Python program to find largest number in a list?"
   ]
  },
  {
   "cell_type": "code",
   "execution_count": 12,
   "id": "51ac87c5",
   "metadata": {},
   "outputs": [
    {
     "name": "stdout",
     "output_type": "stream",
     "text": [
      "10\n"
     ]
    }
   ],
   "source": [
    "def large(l):\n",
    "    try:\n",
    "        l.sort()\n",
    "        return l[-1]\n",
    "    except:\n",
    "        print('Enter correct values in list')\n",
    "        \n",
    "    \n",
    "l = [5,2,4,10,1.5,2.3]\n",
    "print(large(l))"
   ]
  },
  {
   "cell_type": "markdown",
   "id": "ff9f4e45",
   "metadata": {},
   "source": [
    "5. Write a Python program to find second largest number in a list?"
   ]
  },
  {
   "cell_type": "code",
   "execution_count": 13,
   "id": "fe91dec1",
   "metadata": {},
   "outputs": [
    {
     "name": "stdout",
     "output_type": "stream",
     "text": [
      "5\n"
     ]
    }
   ],
   "source": [
    "def largest(l):\n",
    "    try:\n",
    "        l.sort()\n",
    "        return l[-2]\n",
    "    except:\n",
    "        print('Enter correct values in list')\n",
    "        \n",
    "    \n",
    "l = [5,2,4,10,1.5,2.3]\n",
    "print(largest(l))"
   ]
  },
  {
   "cell_type": "markdown",
   "id": "74035ee9",
   "metadata": {},
   "source": [
    "6. Write a Python program to find N largest elements from a list?"
   ]
  },
  {
   "cell_type": "code",
   "execution_count": 19,
   "id": "4df5de6c",
   "metadata": {},
   "outputs": [
    {
     "name": "stdout",
     "output_type": "stream",
     "text": [
      "Enter values: 4\n",
      "[10, 5, 4, 2.3]\n"
     ]
    }
   ],
   "source": [
    "def largest_N(l,N):\n",
    "    try:\n",
    "        l.sort()\n",
    "        l.reverse()\n",
    "        result = []\n",
    "        for i in range(N):\n",
    "            result.append(l[i])\n",
    "        return result\n",
    "    except:\n",
    "        print('Enter correct values in list')\n",
    "        \n",
    "    \n",
    "l = [5,2,4,10,1.5,2.3]\n",
    "N = int(input(\"Enter values: \"))\n",
    "print(largest_N(l,N))"
   ]
  },
  {
   "cell_type": "markdown",
   "id": "f60e7888",
   "metadata": {},
   "source": [
    "7. Write a Python program to print even numbers in a list?"
   ]
  },
  {
   "cell_type": "code",
   "execution_count": 21,
   "id": "182da252",
   "metadata": {},
   "outputs": [
    {
     "name": "stdout",
     "output_type": "stream",
     "text": [
      "[2, 4, 10]\n"
     ]
    }
   ],
   "source": [
    "def even_num(l):\n",
    "    try:\n",
    "        result = []\n",
    "        for i in range(len(l)):\n",
    "            if l[i] % 2 == 0:\n",
    "                result.append(l[i])\n",
    "        return result\n",
    "                \n",
    "    except:\n",
    "        print('Enter correct values in list')\n",
    "        \n",
    "    \n",
    "l = [5,2,4,10,1.5,2.3]\n",
    "print(even_num(l))"
   ]
  },
  {
   "cell_type": "markdown",
   "id": "97ae1d9d",
   "metadata": {},
   "source": [
    "8. Write a Python program to print odd numbers in a List?"
   ]
  },
  {
   "cell_type": "code",
   "execution_count": 22,
   "id": "8d22f699",
   "metadata": {},
   "outputs": [
    {
     "name": "stdout",
     "output_type": "stream",
     "text": [
      "[15, 18]\n"
     ]
    }
   ],
   "source": [
    "def odd_num(l):\n",
    "    try:\n",
    "        result = []\n",
    "        for i in range(len(l)):\n",
    "            if l[i] % 3 == 0:\n",
    "                result.append(l[i])\n",
    "        return result\n",
    "                \n",
    "    except:\n",
    "        print('Enter correct values in list')\n",
    "        \n",
    "    \n",
    "l = [15,2,4,10,1.5,18]\n",
    "print(odd_num(l))"
   ]
  },
  {
   "cell_type": "markdown",
   "id": "17fe1976",
   "metadata": {},
   "source": [
    "9. Write a Python program to Remove empty List from List?"
   ]
  },
  {
   "cell_type": "code",
   "execution_count": 43,
   "id": "f5a6fa75",
   "metadata": {},
   "outputs": [
    {
     "name": "stdout",
     "output_type": "stream",
     "text": [
      "[[1, 2, 3, 4, 5], ['gtrdsxfgh', 'hufdd']]\n"
     ]
    }
   ],
   "source": [
    "def empty(l):\n",
    "    try:\n",
    "        res = list(filter(None,l))\n",
    "        return res\n",
    "    except:\n",
    "        print('Try Again')\n",
    "\n",
    "\n",
    "l = [[1,2,3,4,5],[],['gtrdsxfgh','hufdd'],[]]\n",
    "print(empty(l))"
   ]
  },
  {
   "cell_type": "markdown",
   "id": "1c9346d1",
   "metadata": {},
   "source": [
    "10. Write a Python program to Cloning or Copying a list?"
   ]
  },
  {
   "cell_type": "code",
   "execution_count": 44,
   "id": "2522f98f",
   "metadata": {},
   "outputs": [
    {
     "name": "stdout",
     "output_type": "stream",
     "text": [
      "[1, 2, 3, 4, 5]\n"
     ]
    }
   ],
   "source": [
    "def cop(l):\n",
    "    try:\n",
    "        new = []\n",
    "        new = l.copy()\n",
    "        return new\n",
    "    except:\n",
    "        print('Try again')\n",
    "\n",
    "\n",
    "l = [1,2,3,4,5]\n",
    "print(cop(l))"
   ]
  },
  {
   "cell_type": "markdown",
   "id": "d3b1e4c9",
   "metadata": {},
   "source": [
    "11. Write a Python program to Count occurrences of an element in a list?"
   ]
  },
  {
   "cell_type": "code",
   "execution_count": 47,
   "id": "44ebadbe",
   "metadata": {},
   "outputs": [
    {
     "name": "stdout",
     "output_type": "stream",
     "text": [
      "Enter element : 5\n",
      "3\n"
     ]
    }
   ],
   "source": [
    "def Occurences(l,n):\n",
    "    try:\n",
    "        a = 0\n",
    "        a = l.count(n)\n",
    "        return a\n",
    "    except:\n",
    "        print('Try again')\n",
    "\n",
    "\n",
    "l = [1,2,3,4,5,1,10,0,0,2,5,2,5]\n",
    "n = int(input(\"Enter element : \"))\n",
    "print(Occurences(l,n))"
   ]
  },
  {
   "cell_type": "code",
   "execution_count": null,
   "id": "80d95a03",
   "metadata": {},
   "outputs": [],
   "source": []
  }
 ],
 "metadata": {
  "kernelspec": {
   "display_name": "Python 3 (ipykernel)",
   "language": "python",
   "name": "python3"
  },
  "language_info": {
   "codemirror_mode": {
    "name": "ipython",
    "version": 3
   },
   "file_extension": ".py",
   "mimetype": "text/x-python",
   "name": "python",
   "nbconvert_exporter": "python",
   "pygments_lexer": "ipython3",
   "version": "3.9.12"
  }
 },
 "nbformat": 4,
 "nbformat_minor": 5
}
