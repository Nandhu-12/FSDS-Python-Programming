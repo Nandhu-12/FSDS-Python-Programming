{
 "cells": [
  {
   "cell_type": "markdown",
   "id": "26f42a58",
   "metadata": {},
   "source": [
    "# Python Programming Assignment 19"
   ]
  },
  {
   "cell_type": "markdown",
   "id": "ea64579d",
   "metadata": {},
   "source": [
    "# 1) Create a function that takes a string and returns a string in which each character is repeated once?"
   ]
  },
  {
   "cell_type": "code",
   "execution_count": 22,
   "id": "08b0ec34",
   "metadata": {},
   "outputs": [
    {
     "data": {
      "text/plain": [
       "'ggoodd  bblleessss  yyoouu  !!'"
      ]
     },
     "execution_count": 22,
     "metadata": {},
     "output_type": "execute_result"
    }
   ],
   "source": [
    "def repeat(string):\n",
    "    new = ''\n",
    "    for i in string:\n",
    "        new += i\n",
    "        new += i\n",
    "    return new\n",
    "\n",
    "string = 'god bless you !'\n",
    "repeat(string)"
   ]
  },
  {
   "cell_type": "markdown",
   "id": "b19812eb",
   "metadata": {},
   "source": [
    "# 2) Create a function that reverses a boolean value and returns the string \"boolean expected \" if another variable type is given?"
   ]
  },
  {
   "cell_type": "code",
   "execution_count": 25,
   "id": "45058401",
   "metadata": {},
   "outputs": [
    {
     "data": {
      "text/plain": [
       "'boolean expected'"
      ]
     },
     "execution_count": 25,
     "metadata": {},
     "output_type": "execute_result"
    }
   ],
   "source": [
    "def boolean(word):\n",
    "    if word == True:\n",
    "        return \"False\"\n",
    "    elif word == False:\n",
    "        return \"True\"\n",
    "    else:\n",
    "        return \"boolean expected\"\n",
    "    \n",
    "word = 'sdfgh'\n",
    "boolean(word)"
   ]
  },
  {
   "cell_type": "markdown",
   "id": "43912af2",
   "metadata": {},
   "source": [
    "# 3) Create a function that takes a single string as argument and returns an ordered list containing the indices of all capital letters in the string."
   ]
  },
  {
   "cell_type": "code",
   "execution_count": 37,
   "id": "63f337e2",
   "metadata": {},
   "outputs": [
    {
     "data": {
      "text/plain": [
       "[0, 1, 4]"
      ]
     },
     "execution_count": 37,
     "metadata": {},
     "output_type": "execute_result"
    }
   ],
   "source": [
    "def indexing(word):\n",
    "    result = []\n",
    "    for i in word:\n",
    "        if i.isupper():\n",
    "            result.append(word.index(i))\n",
    "    return result\n",
    "\n",
    "word = 'PUppY'\n",
    "indexing(word)"
   ]
  },
  {
   "cell_type": "markdown",
   "id": "a081d8d1",
   "metadata": {},
   "source": [
    "# 4) Using list comprehensions, create a function that finds all even numbers from 1 to the given number."
   ]
  },
  {
   "cell_type": "code",
   "execution_count": 42,
   "id": "c866400b",
   "metadata": {},
   "outputs": [
    {
     "name": "stdout",
     "output_type": "stream",
     "text": [
      "[2, 4, 6, 8]\n"
     ]
    }
   ],
   "source": [
    "num = 8\n",
    "l = []\n",
    "result = [l.append(i) for i in range(1,num+1) if i%2 ==0]\n",
    "print(l)"
   ]
  },
  {
   "cell_type": "code",
   "execution_count": null,
   "id": "abe7403b",
   "metadata": {},
   "outputs": [],
   "source": []
  }
 ],
 "metadata": {
  "kernelspec": {
   "display_name": "Python 3 (ipykernel)",
   "language": "python",
   "name": "python3"
  },
  "language_info": {
   "codemirror_mode": {
    "name": "ipython",
    "version": 3
   },
   "file_extension": ".py",
   "mimetype": "text/x-python",
   "name": "python",
   "nbconvert_exporter": "python",
   "pygments_lexer": "ipython3",
   "version": "3.9.12"
  }
 },
 "nbformat": 4,
 "nbformat_minor": 5
}
