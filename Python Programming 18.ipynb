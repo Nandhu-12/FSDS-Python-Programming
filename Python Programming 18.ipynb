{
 "cells": [
  {
   "cell_type": "markdown",
   "id": "7b57249d",
   "metadata": {},
   "source": [
    "# Python Programming Assignment 18"
   ]
  },
  {
   "cell_type": "markdown",
   "id": "34a53621",
   "metadata": {},
   "source": [
    "# 1) Create a function that takes a list of non-negative integers and strings and return a new list without the strings."
   ]
  },
  {
   "cell_type": "code",
   "execution_count": 5,
   "id": "924e86d5",
   "metadata": {},
   "outputs": [
    {
     "data": {
      "text/plain": [
       "[1, 15, 123]"
      ]
     },
     "execution_count": 5,
     "metadata": {},
     "output_type": "execute_result"
    }
   ],
   "source": [
    "def number(new):\n",
    "    l = []\n",
    "    for i in new:\n",
    "        if type(i) == int:\n",
    "            l.append(i)\n",
    "    return l\n",
    "\n",
    "new = [1,'a','b','0',15,'100', 123]\n",
    "number(new)"
   ]
  },
  {
   "cell_type": "markdown",
   "id": "5ba5bbfa",
   "metadata": {},
   "source": [
    "# 2) The \"Reverser\" takes a string as input and returns that string in reverse order, with the opposite case."
   ]
  },
  {
   "cell_type": "code",
   "execution_count": 14,
   "id": "cf93b45c",
   "metadata": {},
   "outputs": [
    {
     "name": "stdout",
     "output_type": "stream",
     "text": [
      "DLROw OLLEh\n"
     ]
    }
   ],
   "source": [
    "a = 'Hello World'\n",
    "b = ''\n",
    "for i in a:\n",
    "    if i.isupper():\n",
    "        b += i.lower()\n",
    "    elif i.islower():\n",
    "        b += i.upper()\n",
    "    elif i ==' ':\n",
    "        b += ' '\n",
    "        \n",
    "print(b[::-1])"
   ]
  },
  {
   "cell_type": "markdown",
   "id": "ddcecc06",
   "metadata": {},
   "source": [
    "# 3) you can assign variables from lists in a much more succinct way. Create variables first, middle and last from the given list using destructuring assignment"
   ]
  },
  {
   "cell_type": "code",
   "execution_count": 29,
   "id": "775dd3c4",
   "metadata": {},
   "outputs": [
    {
     "name": "stdout",
     "output_type": "stream",
     "text": [
      "first:  [1]\n",
      "middle:  [2, 3, 4]\n",
      "last:  [5]\n"
     ]
    }
   ],
   "source": [
    "l = [1,2,3,4,5]\n",
    "first = [l[0]]\n",
    "middle = l[1:len(l)-1]\n",
    "last = [l[-1]]\n",
    "print('first: ',first)\n",
    "print('middle: ',middle)\n",
    "print('last: ',last)"
   ]
  },
  {
   "cell_type": "code",
   "execution_count": null,
   "id": "e3995c76",
   "metadata": {},
   "outputs": [],
   "source": []
  }
 ],
 "metadata": {
  "kernelspec": {
   "display_name": "Python 3 (ipykernel)",
   "language": "python",
   "name": "python3"
  },
  "language_info": {
   "codemirror_mode": {
    "name": "ipython",
    "version": 3
   },
   "file_extension": ".py",
   "mimetype": "text/x-python",
   "name": "python",
   "nbconvert_exporter": "python",
   "pygments_lexer": "ipython3",
   "version": "3.9.12"
  }
 },
 "nbformat": 4,
 "nbformat_minor": 5
}
