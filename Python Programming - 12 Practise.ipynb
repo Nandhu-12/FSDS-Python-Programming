{
 "cells": [
  {
   "cell_type": "markdown",
   "id": "4a244244",
   "metadata": {},
   "source": [
    "# Python Programming - 12 Practise"
   ]
  },
  {
   "cell_type": "markdown",
   "id": "83221516",
   "metadata": {},
   "source": [
    "# 1) Write a Python program to Extract Unique values dictionary values?"
   ]
  },
  {
   "cell_type": "code",
   "execution_count": 1,
   "id": "e4caa0ad",
   "metadata": {},
   "outputs": [
    {
     "data": {
      "text/plain": [
       "[{'1', 'A', 'Black', 'Mario', 'N', 'NFS', 'White', 'black', 'n', 'red'}]"
      ]
     },
     "execution_count": 1,
     "metadata": {},
     "output_type": "execute_result"
    }
   ],
   "source": [
    "def unique():\n",
    "    dicti = {'color' : ['White','red','black','Black'],\n",
    "             'game' : ['Mario','NFS','Mario'],\n",
    "             'alphabets' : ['N','n','A'],\n",
    "              'numbers' : ['1','1']}\n",
    "    \n",
    "    \n",
    "    result = [set(val for i in dicti.values() for val in i)]\n",
    "        \n",
    "    return result\n",
    "        \n",
    "unique()"
   ]
  },
  {
   "cell_type": "markdown",
   "id": "fc20edca",
   "metadata": {},
   "source": [
    "# 2) Write a Python program to find the sum of all items in a dictionary?"
   ]
  },
  {
   "cell_type": "code",
   "execution_count": 2,
   "id": "44ffc68b",
   "metadata": {},
   "outputs": [
    {
     "data": {
      "text/plain": [
       "4"
      ]
     },
     "execution_count": 2,
     "metadata": {},
     "output_type": "execute_result"
    }
   ],
   "source": [
    "def counting():\n",
    "    dicti = {'color' : ['White','red','black','Black'],\n",
    "             'game' : ['Mario','NFS','Mario'],\n",
    "             'alphabets' : ['N','n','A'],\n",
    "              'numbers' : ['1','1']}\n",
    "    \n",
    "    return len(dicti.items())\n",
    "\n",
    "counting()"
   ]
  },
  {
   "cell_type": "markdown",
   "id": "6d80263a",
   "metadata": {},
   "source": [
    "# 3) Write a Python program to Merging two Dictionaries?"
   ]
  },
  {
   "cell_type": "code",
   "execution_count": 5,
   "id": "3d477974",
   "metadata": {},
   "outputs": [
    {
     "data": {
      "text/plain": [
       "{'color': ['White', 'red', 'black', 'Black'],\n",
       " 'game': ['Mario', 'NFS', 'Mario'],\n",
       " 'alphabets': ['N', 'n', 'A'],\n",
       " 'numbers': ['1', '1'],\n",
       " 'place': 'Coimbatore',\n",
       " 'toy': 'Minion'}"
      ]
     },
     "execution_count": 5,
     "metadata": {},
     "output_type": "execute_result"
    }
   ],
   "source": [
    "def Merging():\n",
    "    dicti_A = {'color' : ['White','red','black','Black'],\n",
    "                 'game' : ['Mario','NFS','Mario'],\n",
    "                 'alphabets' : ['N','n','A'],\n",
    "                  'numbers' : ['1','1']}\n",
    "\n",
    "    dicti_B = {'place':'Coimbatore',\n",
    "                   'toy' : 'Minion'}\n",
    "    \n",
    "    dic = {**dicti_A, **dicti_B}\n",
    "    return dic\n",
    "\n",
    "Merging()"
   ]
  },
  {
   "cell_type": "markdown",
   "id": "201669e1",
   "metadata": {},
   "source": [
    "# 4) Write a Python program to convert key-values list to flat dictionary?"
   ]
  },
  {
   "cell_type": "code",
   "execution_count": 6,
   "id": "17e58b83",
   "metadata": {},
   "outputs": [
    {
     "data": {
      "text/plain": [
       "{'May': 5, 'April': 4}"
      ]
     },
     "execution_count": 6,
     "metadata": {},
     "output_type": "execute_result"
    }
   ],
   "source": [
    "def flat():\n",
    "    elements = {'month' : ['May','April'],\n",
    "                'num' : [5,4]}\n",
    "    result = dict(zip(elements['month'], elements['num']))\n",
    "    return result\n",
    "\n",
    "    \n",
    "flat()"
   ]
  },
  {
   "cell_type": "markdown",
   "id": "9188163f",
   "metadata": {},
   "source": [
    "# 5) Write a Python program to insertion at the beginning in OrderedDict?"
   ]
  },
  {
   "cell_type": "code",
   "execution_count": 7,
   "id": "0d5d22cf",
   "metadata": {},
   "outputs": [
    {
     "name": "stdout",
     "output_type": "stream",
     "text": [
      "OrderedDict([('latha', 95), ('Nandhu', '90'), ('pappu', 100)])\n"
     ]
    }
   ],
   "source": [
    "from collections import OrderedDict\n",
    "\n",
    "dicti = OrderedDict([('Nandhu','90'),('pappu',100)])\n",
    "dicti.update({'latha':95})\n",
    "dicti.move_to_end('latha',last = False)\n",
    "\n",
    "print(dicti)"
   ]
  },
  {
   "cell_type": "markdown",
   "id": "c7e49762",
   "metadata": {},
   "source": [
    "# 6) Write a Python program to check order of character in string using OrderedDict()?"
   ]
  },
  {
   "cell_type": "code",
   "execution_count": 37,
   "id": "7c24abf8",
   "metadata": {},
   "outputs": [
    {
     "name": "stdout",
     "output_type": "stream",
     "text": [
      "true\n"
     ]
    }
   ],
   "source": [
    "from collections import OrderedDict\n",
    "\n",
    "def check(word, pattern):\n",
    "    z = OrderedDict.fromkeys(word)\n",
    "    l = 0\n",
    "    for key, value in z.items():\n",
    "        if (key == pattern[l]):\n",
    "            l += 1\n",
    "\n",
    "        if (l == (len(pattern))):\n",
    "            return 'true'\n",
    "\n",
    "    return 'false'\n",
    "\n",
    "word = 'character'\n",
    "pattern = 'ha'\n",
    "print(check(word, pattern))"
   ]
  },
  {
   "cell_type": "markdown",
   "id": "b53e661d",
   "metadata": {},
   "source": [
    "# 7) Write a Python program to sort Python Dictionaries by Key or Value?"
   ]
  },
  {
   "cell_type": "code",
   "execution_count": 40,
   "id": "774fa059",
   "metadata": {},
   "outputs": [],
   "source": [
    "dicti_A = {'color' : ['White','red','black','Black'],\n",
    "                 'game' : ['Mario','NFS','Mario'],\n",
    "                 'alphabets' : ['N','n','A'],\n",
    "                  'numbers' : ['1','1']}\n",
    "a = list(dicti_A)\n",
    "a.sort()\n",
    "b = {i:dicti_A[i] for i in a}"
   ]
  },
  {
   "cell_type": "code",
   "execution_count": 41,
   "id": "34b013e3",
   "metadata": {},
   "outputs": [
    {
     "data": {
      "text/plain": [
       "{'alphabets': ['N', 'n', 'A'],\n",
       " 'color': ['White', 'red', 'black', 'Black'],\n",
       " 'game': ['Mario', 'NFS', 'Mario'],\n",
       " 'numbers': ['1', '1']}"
      ]
     },
     "execution_count": 41,
     "metadata": {},
     "output_type": "execute_result"
    }
   ],
   "source": [
    "b"
   ]
  },
  {
   "cell_type": "code",
   "execution_count": null,
   "id": "e58331e9",
   "metadata": {},
   "outputs": [],
   "source": []
  }
 ],
 "metadata": {
  "kernelspec": {
   "display_name": "Python 3 (ipykernel)",
   "language": "python",
   "name": "python3"
  },
  "language_info": {
   "codemirror_mode": {
    "name": "ipython",
    "version": 3
   },
   "file_extension": ".py",
   "mimetype": "text/x-python",
   "name": "python",
   "nbconvert_exporter": "python",
   "pygments_lexer": "ipython3",
   "version": "3.9.12"
  }
 },
 "nbformat": 4,
 "nbformat_minor": 5
}
