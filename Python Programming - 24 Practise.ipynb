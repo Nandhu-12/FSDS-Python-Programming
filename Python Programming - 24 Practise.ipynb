{
 "cells": [
  {
   "cell_type": "markdown",
   "id": "015c9400",
   "metadata": {},
   "source": [
    "# Python Programming - 24 Practise"
   ]
  },
  {
   "cell_type": "markdown",
   "id": "85f2ee21",
   "metadata": {},
   "source": [
    "Create a function that takes an integer and returns a list from 1 to the given number, where:\n",
    "    \n",
    "1. If the number can be divided evenly by 4, amplify it by 10 (i.e. return 10 times the\n",
    "number).\n",
    "\n",
    "2. If the number cannot be divided evenly by 4, simply return the number."
   ]
  },
  {
   "cell_type": "code",
   "execution_count": 15,
   "id": "08741e68",
   "metadata": {},
   "outputs": [
    {
     "data": {
      "text/plain": [
       "[1, 2, 3, 40]"
      ]
     },
     "execution_count": 15,
     "metadata": {},
     "output_type": "execute_result"
    }
   ],
   "source": [
    "def amplify(num):\n",
    "    l = []\n",
    "    for i in range(1,num+1):\n",
    "        if i % 4 == 0:\n",
    "            l.append(i*10)\n",
    "        else:\n",
    "            l.append(i)\n",
    "            \n",
    "    return l\n",
    "        \n",
    "amplify(4)"
   ]
  },
  {
   "cell_type": "markdown",
   "id": "d58f8732",
   "metadata": {},
   "source": [
    "2) Create a function that takes a list of numbers and return the number that's unique."
   ]
  },
  {
   "cell_type": "code",
   "execution_count": 32,
   "id": "b75ef097",
   "metadata": {},
   "outputs": [
    {
     "data": {
      "text/plain": [
       "7"
      ]
     },
     "execution_count": 32,
     "metadata": {},
     "output_type": "execute_result"
    }
   ],
   "source": [
    "def unique(l):\n",
    "    for i in l:\n",
    "        if l.count(i) == 1:\n",
    "            return i\n",
    "    \n",
    "l = [3,3,3,7,3,3]\n",
    "unique(l)"
   ]
  },
  {
   "cell_type": "markdown",
   "id": "5b9db32f",
   "metadata": {},
   "source": [
    "3) Create a function that takes a list of strings and return a list, sorted from shortest to longest."
   ]
  },
  {
   "cell_type": "code",
   "execution_count": 34,
   "id": "fba0286d",
   "metadata": {},
   "outputs": [
    {
     "data": {
      "text/plain": [
       "['Apple', 'Google', 'Microsoft']"
      ]
     },
     "execution_count": 34,
     "metadata": {},
     "output_type": "execute_result"
    }
   ],
   "source": [
    "def sorting(word):\n",
    "    return sorted(word)\n",
    "\n",
    "word = [\"Google\",\"Apple\",\"Microsoft\"]\n",
    "sorting(word)"
   ]
  },
  {
   "cell_type": "markdown",
   "id": "3c886fe5",
   "metadata": {},
   "source": [
    "4) Create a function that validates whether three given integers form a Pythagorean triplet. The\n",
    "sum of the squares of the two smallest integers must equal the square of the largest number to\n",
    "be validated."
   ]
  },
  {
   "cell_type": "code",
   "execution_count": 51,
   "id": "39462051",
   "metadata": {},
   "outputs": [
    {
     "name": "stdout",
     "output_type": "stream",
     "text": [
      "169 169\n"
     ]
    },
    {
     "data": {
      "text/plain": [
       "True"
      ]
     },
     "execution_count": 51,
     "metadata": {},
     "output_type": "execute_result"
    }
   ],
   "source": [
    "def squares(l):\n",
    "    ll = sorted(l)\n",
    "    num1 = ((ll[0]**2) + (ll[1])**2)\n",
    "    num2 = (ll[2]**2)\n",
    "    print(num1,num2)\n",
    "    if num1 == num2:\n",
    "        return True\n",
    "    else:\n",
    "        return False\n",
    "    \n",
    "l = (13,5,12)\n",
    "squares(l)"
   ]
  },
  {
   "cell_type": "code",
   "execution_count": null,
   "id": "e1f3d723",
   "metadata": {},
   "outputs": [],
   "source": []
  }
 ],
 "metadata": {
  "kernelspec": {
   "display_name": "Python 3 (ipykernel)",
   "language": "python",
   "name": "python3"
  },
  "language_info": {
   "codemirror_mode": {
    "name": "ipython",
    "version": 3
   },
   "file_extension": ".py",
   "mimetype": "text/x-python",
   "name": "python",
   "nbconvert_exporter": "python",
   "pygments_lexer": "ipython3",
   "version": "3.9.12"
  }
 },
 "nbformat": 4,
 "nbformat_minor": 5
}
