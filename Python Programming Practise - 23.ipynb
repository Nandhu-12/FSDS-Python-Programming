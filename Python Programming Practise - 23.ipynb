{
 "cells": [
  {
   "cell_type": "markdown",
   "id": "11ae26e5",
   "metadata": {},
   "source": [
    "# Python Programming Practise - 23"
   ]
  },
  {
   "cell_type": "markdown",
   "id": "7f730fa9",
   "metadata": {},
   "source": [
    "1) Create a function that takes a number as an argument and returns True or False depending\n",
    "on whether the number is symmetrical or not. A number is symmetrical when it is the same as\n",
    "its reverse."
   ]
  },
  {
   "cell_type": "code",
   "execution_count": 14,
   "id": "039c4191",
   "metadata": {},
   "outputs": [
    {
     "name": "stdout",
     "output_type": "stream",
     "text": [
      "7227\n"
     ]
    },
    {
     "data": {
      "text/plain": [
       "True"
      ]
     },
     "execution_count": 14,
     "metadata": {},
     "output_type": "execute_result"
    }
   ],
   "source": [
    "def rev(num) :\n",
    "    new = num[::-1]\n",
    "    if num == new :\n",
    "        return True\n",
    "    else :\n",
    "        return False\n",
    "    \n",
    "num = input()\n",
    "rev(num)"
   ]
  },
  {
   "cell_type": "markdown",
   "id": "f261278e",
   "metadata": {},
   "source": [
    "2) Given a string of numbers separated by a comma and space, return the product of the\n",
    "numbers."
   ]
  },
  {
   "cell_type": "code",
   "execution_count": 115,
   "id": "50a8262e",
   "metadata": {},
   "outputs": [
    {
     "data": {
      "text/plain": [
       "20"
      ]
     },
     "execution_count": 115,
     "metadata": {},
     "output_type": "execute_result"
    }
   ],
   "source": [
    "def string(a):\n",
    "    b = list(a.split(\",\"))\n",
    "    res = 1\n",
    "    \n",
    "    for i in b:\n",
    "        res = res*int(i)\n",
    "    \n",
    "    return res\n",
    "\n",
    "a = (\"10,2\")\n",
    "string(a)"
   ]
  },
  {
   "cell_type": "markdown",
   "id": "c0e6f25a",
   "metadata": {},
   "source": [
    "3) Create a function that squares every digit of a number."
   ]
  },
  {
   "cell_type": "code",
   "execution_count": 153,
   "id": "81b9f09a",
   "metadata": {},
   "outputs": [
    {
     "name": "stdout",
     "output_type": "stream",
     "text": [
      "811181"
     ]
    }
   ],
   "source": [
    "def squares(a):\n",
    "    b = str(a)\n",
    "    c = list(b)\n",
    "    z = []\n",
    "    res = []\n",
    "\n",
    "    for i in c:\n",
    "        z.append(int(i))\n",
    "\n",
    "    for i in z:\n",
    "        res.append(i*i)\n",
    "    \n",
    "    for i in res:\n",
    "        print(i,end = \"\")\n",
    "\n",
    "squares(9119)\n"
   ]
  },
  {
   "cell_type": "markdown",
   "id": "2a5f98eb",
   "metadata": {},
   "source": [
    "4) Create a function that sorts a list and removes all duplicate items from it."
   ]
  },
  {
   "cell_type": "code",
   "execution_count": 164,
   "id": "cc07f636",
   "metadata": {},
   "outputs": [
    {
     "data": {
      "text/plain": [
       "[1, 3, 5]"
      ]
     },
     "execution_count": 164,
     "metadata": {},
     "output_type": "execute_result"
    }
   ],
   "source": [
    "def remove_dup(listt) :\n",
    "    listt.sort()\n",
    "    a = set(listt)\n",
    "    return list(a)\n",
    "\n",
    "listt = [1,3,3,5,5]\n",
    "remove_dup(listt)"
   ]
  },
  {
   "cell_type": "markdown",
   "id": "efee5382",
   "metadata": {},
   "source": [
    "5) Create a function that returns the mean of all digits."
   ]
  },
  {
   "cell_type": "code",
   "execution_count": 175,
   "id": "f862167c",
   "metadata": {},
   "outputs": [
    {
     "data": {
      "text/plain": [
       "3"
      ]
     },
     "execution_count": 175,
     "metadata": {},
     "output_type": "execute_result"
    }
   ],
   "source": [
    "def meann(a):\n",
    "    b = str(a)\n",
    "    c = list(b)\n",
    "    z = []\n",
    "    res = 0\n",
    "\n",
    "    for i in c:\n",
    "        z.append(int(i))\n",
    "    \n",
    "    res = sum(z)\n",
    "    return res//len(z)\n",
    "        \n",
    "meann(12345)\n"
   ]
  }
 ],
 "metadata": {
  "kernelspec": {
   "display_name": "Python 3 (ipykernel)",
   "language": "python",
   "name": "python3"
  },
  "language_info": {
   "codemirror_mode": {
    "name": "ipython",
    "version": 3
   },
   "file_extension": ".py",
   "mimetype": "text/x-python",
   "name": "python",
   "nbconvert_exporter": "python",
   "pygments_lexer": "ipython3",
   "version": "3.9.12"
  }
 },
 "nbformat": 4,
 "nbformat_minor": 5
}
