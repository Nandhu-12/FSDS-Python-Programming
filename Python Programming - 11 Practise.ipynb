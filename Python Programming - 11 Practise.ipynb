{
 "cells": [
  {
   "cell_type": "markdown",
   "id": "a7828d31",
   "metadata": {},
   "source": [
    "# Python Programming - 11 Practise"
   ]
  },
  {
   "cell_type": "markdown",
   "id": "430e0f64",
   "metadata": {},
   "source": [
    "# 1. Write a Python program to find words which are greater than given length k?"
   ]
  },
  {
   "cell_type": "code",
   "execution_count": 1,
   "id": "a2706cb1",
   "metadata": {},
   "outputs": [
    {
     "name": "stdout",
     "output_type": "stream",
     "text": [
      "hj jk nm\n",
      "2\n",
      "[]\n",
      "There is no words greater than 2 length\n",
      "hjk nm\n",
      "2\n",
      "['hjk']\n"
     ]
    }
   ],
   "source": [
    "while True:   \n",
    "    try:\n",
    "        sentence = input()\n",
    "        k = int(input())\n",
    "        count = 0\n",
    "        \n",
    "        str1 = sentence.split()\n",
    "        print([word for word in str1 if len(word) > k])\n",
    "        \n",
    "        \n",
    "        for i in str1:\n",
    "            if len(i)>k:\n",
    "                count += 1\n",
    "        if count == 0:\n",
    "            raise Exception(f'There is no words greater than {k} length')\n",
    "        \n",
    "        break\n",
    "       \n",
    "    except Exception as e:\n",
    "        print(e)"
   ]
  },
  {
   "cell_type": "markdown",
   "id": "c0cd78e3",
   "metadata": {},
   "source": [
    "# 2). Write a Python program for removing i-th character from a string?"
   ]
  },
  {
   "cell_type": "code",
   "execution_count": 32,
   "id": "1aafeff7",
   "metadata": {},
   "outputs": [
    {
     "name": "stdout",
     "output_type": "stream",
     "text": [
      "apple\n",
      "0\n"
     ]
    },
    {
     "data": {
      "text/plain": [
       "'pple'"
      ]
     },
     "execution_count": 32,
     "metadata": {},
     "output_type": "execute_result"
    }
   ],
   "source": [
    "def removing_char():\n",
    "    str1 = input()\n",
    "    i = int(input())\n",
    "        \n",
    "    str2 = str1.replace(str1[i],'')\n",
    "    return str2\n",
    "\n",
    "removing_char()\n",
    "    "
   ]
  },
  {
   "cell_type": "markdown",
   "id": "91d8c960",
   "metadata": {},
   "source": [
    "# 3). Write a Python program to split and join a string?"
   ]
  },
  {
   "cell_type": "code",
   "execution_count": 31,
   "id": "cd4df733",
   "metadata": {},
   "outputs": [
    {
     "name": "stdout",
     "output_type": "stream",
     "text": [
      "good girl\n",
      "['good', 'girl']\n",
      "bad boy\n"
     ]
    },
    {
     "data": {
      "text/plain": [
       "'good girlbad boy'"
      ]
     },
     "execution_count": 31,
     "metadata": {},
     "output_type": "execute_result"
    }
   ],
   "source": [
    "def string_split():\n",
    "    a = input()\n",
    "    z = a.split(' ')\n",
    "    return z\n",
    "\n",
    "def string_join():\n",
    "    b = input()\n",
    "    result = a+b\n",
    "    return result\n",
    "\n",
    "print(string_split())\n",
    "string_join()"
   ]
  },
  {
   "cell_type": "markdown",
   "id": "ed22fe41",
   "metadata": {},
   "source": [
    "# 4). Write a Python to check if a given string is binary string or not?"
   ]
  },
  {
   "cell_type": "code",
   "execution_count": 42,
   "id": "f874eb19",
   "metadata": {},
   "outputs": [
    {
     "name": "stdout",
     "output_type": "stream",
     "text": [
      "1010101010\n"
     ]
    },
    {
     "data": {
      "text/plain": [
       "'Yes'"
      ]
     },
     "execution_count": 42,
     "metadata": {},
     "output_type": "execute_result"
    }
   ],
   "source": [
    "def binary():\n",
    "    b = input()\n",
    "    b1 = set(b)\n",
    "    s = {'0','1'}\n",
    "    if s == b1 or b1 == '0' or b1 == '1':\n",
    "        return 'Yes'\n",
    "    else:\n",
    "        return 'No'\n",
    "    \n",
    "binary()"
   ]
  },
  {
   "cell_type": "markdown",
   "id": "6d8cb541",
   "metadata": {},
   "source": [
    "# 5). Write a Python program to find uncommon words from two Strings?"
   ]
  },
  {
   "cell_type": "code",
   "execution_count": 51,
   "id": "d69e82e8",
   "metadata": {},
   "outputs": [
    {
     "name": "stdout",
     "output_type": "stream",
     "text": [
      "Python program\n",
      "Python program to find uncommon words\n"
     ]
    },
    {
     "data": {
      "text/plain": [
       "{'find', 'to', 'uncommon', 'words'}"
      ]
     },
     "execution_count": 51,
     "metadata": {},
     "output_type": "execute_result"
    }
   ],
   "source": [
    "def common():\n",
    "    sentence1 = input().split(' ')\n",
    "    sentence2 = input().split(' ')\n",
    "    l = []\n",
    "        \n",
    "    for i in sentence1:\n",
    "         if i not in sentence2:\n",
    "            l.append(i)\n",
    "            \n",
    "    for i in sentence2:\n",
    "         if i not in sentence1:\n",
    "            l.append(i)\n",
    "    \n",
    "    return set(l)\n",
    "                \n",
    "common()"
   ]
  },
  {
   "cell_type": "markdown",
   "id": "5fd27ac1",
   "metadata": {},
   "source": [
    "# 6). Write a Python to find all duplicate characters in string?"
   ]
  },
  {
   "cell_type": "code",
   "execution_count": 65,
   "id": "ccd895fb",
   "metadata": {},
   "outputs": [
    {
     "name": "stdout",
     "output_type": "stream",
     "text": [
      "goodday\n",
      "{'d', 'o'}\n"
     ]
    }
   ],
   "source": [
    "a = input()\n",
    "l = set()\n",
    "s = set()\n",
    "for i in a:\n",
    "    if i not in s:\n",
    "        s.add(i)\n",
    "    else:\n",
    "        l.add(i)\n",
    "print(l)"
   ]
  },
  {
   "cell_type": "markdown",
   "id": "9c45dc92",
   "metadata": {},
   "source": [
    "# 7). Write a Python Program to check if a string contains any special character?"
   ]
  },
  {
   "cell_type": "code",
   "execution_count": 70,
   "id": "94761be2",
   "metadata": {},
   "outputs": [
    {
     "name": "stdout",
     "output_type": "stream",
     "text": [
      "dfgh #$5 Df#4\n",
      "Yes\n",
      "['#', '$', '#']\n"
     ]
    }
   ],
   "source": [
    "a = input()\n",
    "\n",
    "l= []\n",
    "for i in a:\n",
    "    if not (i.isalpha() or i.isdigit() or i == ' '):\n",
    "        l.append(i)\n",
    "if len(l)>1:\n",
    "    print('Yes')\n",
    "    print(l)\n",
    "else:\n",
    "    print('No')\n"
   ]
  },
  {
   "cell_type": "code",
   "execution_count": null,
   "id": "db40713a",
   "metadata": {},
   "outputs": [],
   "source": []
  }
 ],
 "metadata": {
  "kernelspec": {
   "display_name": "Python 3 (ipykernel)",
   "language": "python",
   "name": "python3"
  },
  "language_info": {
   "codemirror_mode": {
    "name": "ipython",
    "version": 3
   },
   "file_extension": ".py",
   "mimetype": "text/x-python",
   "name": "python",
   "nbconvert_exporter": "python",
   "pygments_lexer": "ipython3",
   "version": "3.9.12"
  }
 },
 "nbformat": 4,
 "nbformat_minor": 5
}
