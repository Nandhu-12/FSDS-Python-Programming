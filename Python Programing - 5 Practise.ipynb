{
 "cells": [
  {
   "cell_type": "markdown",
   "id": "144a4ab3",
   "metadata": {},
   "source": [
    "# Python Programming Assignment - 5"
   ]
  },
  {
   "cell_type": "markdown",
   "id": "21cf98ad",
   "metadata": {},
   "source": [
    "# 1) Write a Python Program to Find LCM?"
   ]
  },
  {
   "cell_type": "code",
   "execution_count": 1,
   "id": "6f214678",
   "metadata": {},
   "outputs": [
    {
     "name": "stdout",
     "output_type": "stream",
     "text": [
      "20\n"
     ]
    }
   ],
   "source": [
    "def LCM(a, b):\n",
    "    big = max(a, b)\n",
    "    small = min(a, b)\n",
    "    \n",
    "    for i in range(big, a*b+1, big):\n",
    "        if i % small == 0:\n",
    "            return i\n",
    " \n",
    "a = 10\n",
    "b = 20\n",
    "print(LCM(a, b))"
   ]
  },
  {
   "cell_type": "markdown",
   "id": "a8561921",
   "metadata": {},
   "source": [
    "# 2) Write a Python Program to Find HCF?"
   ]
  },
  {
   "cell_type": "code",
   "execution_count": 2,
   "id": "cffac5d0",
   "metadata": {},
   "outputs": [
    {
     "name": "stdout",
     "output_type": "stream",
     "text": [
      "10\n"
     ]
    }
   ],
   "source": [
    "def gcd(num1,num2):\n",
    "    z = min(num1, num2)\n",
    " \n",
    "    while z:\n",
    "        if num1 % z == 0 and num2 % z == 0:\n",
    "            break\n",
    "        z -= 1\n",
    " \n",
    "    return z\n",
    " \n",
    "a = 10\n",
    "b = 20\n",
    " \n",
    "print(gcd(a,b))\n",
    " "
   ]
  },
  {
   "cell_type": "markdown",
   "id": "4c2c8ca2",
   "metadata": {},
   "source": [
    "# 3) Write a Python Program to Convert Decimal to Binary, Octal and Hexadecimal?"
   ]
  },
  {
   "cell_type": "code",
   "execution_count": 3,
   "id": "ba27c3e1",
   "metadata": {},
   "outputs": [
    {
     "name": "stdout",
     "output_type": "stream",
     "text": [
      "binary 0b1100100\n",
      "octal 0o144\n",
      "hexadecimal 0x64\n"
     ]
    }
   ],
   "source": [
    "def convert(num):\n",
    "    print('binary',bin(num))\n",
    "    print('octal',oct(num))\n",
    "    print('hexadecimal',hex(num))\n",
    "    \n",
    "num = 100\n",
    "convert(num)"
   ]
  },
  {
   "cell_type": "markdown",
   "id": "414896b7",
   "metadata": {},
   "source": [
    "# 4) Write a Python Program To Find ASCII value of a character?"
   ]
  },
  {
   "cell_type": "code",
   "execution_count": 4,
   "id": "80766032",
   "metadata": {},
   "outputs": [
    {
     "name": "stdout",
     "output_type": "stream",
     "text": [
      "78\n"
     ]
    }
   ],
   "source": [
    "c = 'N'\n",
    "print(ord(c))"
   ]
  },
  {
   "cell_type": "markdown",
   "id": "dca27405",
   "metadata": {},
   "source": [
    "# 5) Write a Python Program to Make a Simple Calculator with 4 basic mathematical operations?"
   ]
  },
  {
   "cell_type": "code",
   "execution_count": 8,
   "id": "9b4b30df",
   "metadata": {},
   "outputs": [
    {
     "name": "stdout",
     "output_type": "stream",
     "text": [
      "Select operation: \n",
      "Addition: \n",
      "Subtraction: \n",
      "Multiplication: \n",
      "Division: \n",
      "Select the Operation: Multiplication\n",
      "Multiplication =  20000\n"
     ]
    }
   ],
   "source": [
    "a = 100\n",
    "b = 200\n",
    "def Addition(a,b):\n",
    "    return a+b\n",
    "def Subtraction(a,b):\n",
    "    return a-b\n",
    "def Multiplication(a,b):\n",
    "    return a*b\n",
    "def Division(a,b):\n",
    "    return a/b\n",
    "\n",
    "print('Select operation: ')\n",
    "print('Addition: ')\n",
    "print('Subtraction: ')\n",
    "print('Multiplication: ')\n",
    "print('Division: ')\n",
    "\n",
    "while True:\n",
    "    option = input('Select the Operation: ')\n",
    "    \n",
    "    if option == 'Addition':\n",
    "        print('Addition = ',Addition(a,b))\n",
    "    elif option == 'Subtraction':\n",
    "        print('Subtraction = ',Subtraction(a,b))\n",
    "    elif option == 'Multiplication':\n",
    "        print('Multiplication = ',Multiplication(a,b))\n",
    "    elif option == 'Division':\n",
    "        print('Division = ',Division(a,b))\n",
    "        \n",
    "    break"
   ]
  },
  {
   "cell_type": "code",
   "execution_count": null,
   "id": "2cca3186",
   "metadata": {},
   "outputs": [],
   "source": []
  },
  {
   "cell_type": "code",
   "execution_count": null,
   "id": "efd618db",
   "metadata": {},
   "outputs": [],
   "source": []
  }
 ],
 "metadata": {
  "kernelspec": {
   "display_name": "Python 3 (ipykernel)",
   "language": "python",
   "name": "python3"
  },
  "language_info": {
   "codemirror_mode": {
    "name": "ipython",
    "version": 3
   },
   "file_extension": ".py",
   "mimetype": "text/x-python",
   "name": "python",
   "nbconvert_exporter": "python",
   "pygments_lexer": "ipython3",
   "version": "3.9.12"
  }
 },
 "nbformat": 4,
 "nbformat_minor": 5
}
