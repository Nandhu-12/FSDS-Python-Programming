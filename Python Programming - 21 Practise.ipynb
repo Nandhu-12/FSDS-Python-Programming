{
 "cells": [
  {
   "cell_type": "markdown",
   "id": "acf8e017",
   "metadata": {},
   "source": [
    "# Python Programming - 21 Practise"
   ]
  },
  {
   "cell_type": "markdown",
   "id": "c2d69270",
   "metadata": {},
   "source": [
    "1) Write a function that takes a list and a number as arguments. Add the number to the end of the list, then remove the first element of the list. The function should then return the updated list."
   ]
  },
  {
   "cell_type": "code",
   "execution_count": 1,
   "id": "79af9880",
   "metadata": {},
   "outputs": [
    {
     "name": "stdout",
     "output_type": "stream",
     "text": [
      "Enter a number: 1\n",
      "Enter a list : 5 6 7 8 9\n"
     ]
    },
    {
     "data": {
      "text/plain": [
       "[6, 7, 8, 9, 1]"
      ]
     },
     "execution_count": 1,
     "metadata": {},
     "output_type": "execute_result"
    }
   ],
   "source": [
    "def updated_list(org_list,number) :\n",
    "    org_list.append(number)\n",
    "    org_list.pop(0)\n",
    "    return org_list\n",
    "\n",
    "number = int(input(\"Enter a number: \"))\n",
    "org_list = [int(item) for item in input(\"Enter a list : \").split()]\n",
    "updated_list(org_list,number)"
   ]
  },
  {
   "cell_type": "markdown",
   "id": "e01326b3",
   "metadata": {},
   "source": [
    "2) Create the function that takes a list of dictionaries and returns the sum of people's budgets."
   ]
  },
  {
   "cell_type": "code",
   "execution_count": 2,
   "id": "f838c8d8",
   "metadata": {},
   "outputs": [
    {
     "data": {
      "text/plain": [
       "65700"
      ]
     },
     "execution_count": 2,
     "metadata": {},
     "output_type": "execute_result"
    }
   ],
   "source": [
    "def budget(details):\n",
    "    salary = 0\n",
    "    for i in details:\n",
    "        salary += i['budget']\n",
    "        \n",
    "    return salary\n",
    "\n",
    "details = [{\"name\" : \"john\", \"age\" : 21, \"budget\" : 23000},\n",
    "          {\"name\" : \"steve\", \"age\" : 32, \"budget\" : 40000},\n",
    "          {\"name\" : \"martin\", \"age\" : 16, \"budget\" : 2700}]\n",
    "budget(details)"
   ]
  },
  {
   "cell_type": "markdown",
   "id": "3d0b3f65",
   "metadata": {},
   "source": [
    "3) Create a function that takes a string and returns a string with its letters in alphabetical order."
   ]
  },
  {
   "cell_type": "code",
   "execution_count": 3,
   "id": "06263a9a",
   "metadata": {},
   "outputs": [
    {
     "name": "stdout",
     "output_type": "stream",
     "text": [
      "hacker\n"
     ]
    },
    {
     "data": {
      "text/plain": [
       "['a', 'c', 'e', 'h', 'k', 'r']"
      ]
     },
     "execution_count": 3,
     "metadata": {},
     "output_type": "execute_result"
    }
   ],
   "source": [
    "def ascending(string):\n",
    "    return sorted(string)\n",
    "\n",
    "string = input()\n",
    "ascending(string)"
   ]
  },
  {
   "cell_type": "markdown",
   "id": "671e5e16",
   "metadata": {},
   "source": [
    "4) Write a function that takes a list of elements and returns only the integers."
   ]
  },
  {
   "cell_type": "code",
   "execution_count": 7,
   "id": "44f0f840",
   "metadata": {},
   "outputs": [
    {
     "data": {
      "text/plain": [
       "[9, 2, 16, 4]"
      ]
     },
     "execution_count": 7,
     "metadata": {},
     "output_type": "execute_result"
    }
   ],
   "source": [
    "def integers(elements):\n",
    "    result = []\n",
    "    [result.append(i) for i in elements if (type(i) == int)]\n",
    "    return result\n",
    "\n",
    "elements = [9, 2,\"space\",\"car\",\"lion\",16,4]\n",
    "integers(elements)"
   ]
  },
  {
   "cell_type": "code",
   "execution_count": null,
   "id": "b0553758",
   "metadata": {},
   "outputs": [],
   "source": []
  },
  {
   "cell_type": "code",
   "execution_count": null,
   "id": "464ca6b2",
   "metadata": {},
   "outputs": [],
   "source": []
  },
  {
   "cell_type": "code",
   "execution_count": null,
   "id": "95a5ebe8",
   "metadata": {},
   "outputs": [],
   "source": []
  },
  {
   "cell_type": "code",
   "execution_count": null,
   "id": "ecac76da",
   "metadata": {},
   "outputs": [],
   "source": []
  }
 ],
 "metadata": {
  "kernelspec": {
   "display_name": "Python 3 (ipykernel)",
   "language": "python",
   "name": "python3"
  },
  "language_info": {
   "codemirror_mode": {
    "name": "ipython",
    "version": 3
   },
   "file_extension": ".py",
   "mimetype": "text/x-python",
   "name": "python",
   "nbconvert_exporter": "python",
   "pygments_lexer": "ipython3",
   "version": "3.9.12"
  }
 },
 "nbformat": 4,
 "nbformat_minor": 5
}
