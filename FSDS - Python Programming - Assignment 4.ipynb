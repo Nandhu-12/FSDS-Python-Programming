{
 "cells": [
  {
   "cell_type": "markdown",
   "id": "a516a89e",
   "metadata": {},
   "source": [
    "# FSDS - Python Programming - Assignment 4"
   ]
  },
  {
   "cell_type": "markdown",
   "id": "acb71dec",
   "metadata": {},
   "source": [
    "1. Write a Python Program to Find the Factorial of a Number?"
   ]
  },
  {
   "cell_type": "code",
   "execution_count": 26,
   "id": "3c444f70",
   "metadata": {},
   "outputs": [
    {
     "data": {
      "text/plain": [
       "120"
      ]
     },
     "execution_count": 26,
     "metadata": {},
     "output_type": "execute_result"
    }
   ],
   "source": [
    "def fact(n):\n",
    "    try:\n",
    "        if n == 1:\n",
    "            return n\n",
    "        else:\n",
    "            return n*fact(n-1)\n",
    "    except Exception as e:\n",
    "        print(e)\n",
    "\n",
    "fact(5)\n"
   ]
  },
  {
   "cell_type": "markdown",
   "id": "bc8dfcf9",
   "metadata": {},
   "source": [
    "2. Write a Python Program to Display the multiplication Table?"
   ]
  },
  {
   "cell_type": "code",
   "execution_count": 28,
   "id": "a00f80b8",
   "metadata": {},
   "outputs": [
    {
     "name": "stdout",
     "output_type": "stream",
     "text": [
      "1 * 5 = 5\n",
      "2 * 5 = 10\n",
      "3 * 5 = 15\n",
      "4 * 5 = 20\n",
      "5 * 5 = 25\n",
      "6 * 5 = 30\n",
      "7 * 5 = 35\n",
      "8 * 5 = 40\n",
      "9 * 5 = 45\n",
      "10 * 5 = 50\n"
     ]
    }
   ],
   "source": [
    "def multiple(n):\n",
    "    try:\n",
    "        for i in range(1,11):\n",
    "            print(f'{i} * {n} = {i*n}')\n",
    "            \n",
    "    except Exception as e:\n",
    "        print(e)\n",
    "        \n",
    "multiple(5)"
   ]
  },
  {
   "cell_type": "markdown",
   "id": "ae873c74",
   "metadata": {},
   "source": [
    "3. Write a Python Program to Print the Fibonacci sequence?"
   ]
  },
  {
   "cell_type": "code",
   "execution_count": 45,
   "id": "0cdd2d40",
   "metadata": {},
   "outputs": [
    {
     "name": "stdout",
     "output_type": "stream",
     "text": [
      "Fibonacci Series: 0 1 1 2 3 "
     ]
    }
   ],
   "source": [
    "num = 5\n",
    "a ,b = 0, 1\n",
    "print(\"Fibonacci Series:\", a,b, end=\" \")\n",
    "for i in range(2, num):\n",
    "    c = a + b\n",
    "    a = b\n",
    "    b = c\n",
    "    print(c, end=\" \")"
   ]
  },
  {
   "cell_type": "markdown",
   "id": "a38fafb6",
   "metadata": {},
   "source": [
    "4. Write a Python Program to Check Armstrong Number?"
   ]
  },
  {
   "cell_type": "code",
   "execution_count": 66,
   "id": "e68d6e0f",
   "metadata": {},
   "outputs": [
    {
     "name": "stdout",
     "output_type": "stream",
     "text": [
      "9474\n",
      "yes it is an Armstrong number\n"
     ]
    }
   ],
   "source": [
    "num = input()\n",
    "l = len(num)\n",
    "n = [int(i) for i in str(num)]\n",
    "m = []\n",
    "c = 0\n",
    "for i in n:\n",
    "    m.append(i**l)\n",
    "for i in m:\n",
    "    c = c+i\n",
    "    \n",
    "if int(num) == c:\n",
    "    print(\"yes it is an Armstrong number\")\n",
    "    \n",
    "else:\n",
    "    print(\"No it is not an Armstrong number\")"
   ]
  },
  {
   "cell_type": "markdown",
   "id": "dc28065a",
   "metadata": {},
   "source": [
    "5. Write a Python Program to Find Armstrong Number in an Interval?"
   ]
  },
  {
   "cell_type": "code",
   "execution_count": 80,
   "id": "1410ad7d",
   "metadata": {},
   "outputs": [
    {
     "name": "stdout",
     "output_type": "stream",
     "text": [
      "100\n",
      "2000\n",
      "153\n",
      "370\n",
      "371\n",
      "407\n",
      "1634\n"
     ]
    }
   ],
   "source": [
    "lower = int(input())\n",
    "upper = int(input())\n",
    "for i in range(lower,upper + 1):\n",
    "    z = str(i)\n",
    "    l = len(z)\n",
    "   \n",
    "    n = [int(i) for i in z]\n",
    "    \n",
    "    m = []\n",
    "    c = 0\n",
    "    for i in n:\n",
    "        m.append(i**l)\n",
    "    \n",
    "    for i in m:\n",
    "        c = c+i\n",
    "    \n",
    "    if c == int(z):\n",
    "        print(c)\n"
   ]
  },
  {
   "cell_type": "markdown",
   "id": "11a64c2f",
   "metadata": {},
   "source": [
    "6. Write a Python Program to Find the Sum of Natural Numbers?"
   ]
  },
  {
   "cell_type": "code",
   "execution_count": 89,
   "id": "1b142638",
   "metadata": {},
   "outputs": [
    {
     "name": "stdout",
     "output_type": "stream",
     "text": [
      "100\n",
      "5050\n"
     ]
    }
   ],
   "source": [
    "n = int(input())\n",
    "s = 0\n",
    "while n > 0:\n",
    "    s += n\n",
    "    n -= 1\n",
    "print(s)"
   ]
  },
  {
   "cell_type": "code",
   "execution_count": null,
   "id": "6fa0c608",
   "metadata": {},
   "outputs": [],
   "source": []
  }
 ],
 "metadata": {
  "kernelspec": {
   "display_name": "Python 3 (ipykernel)",
   "language": "python",
   "name": "python3"
  },
  "language_info": {
   "codemirror_mode": {
    "name": "ipython",
    "version": 3
   },
   "file_extension": ".py",
   "mimetype": "text/x-python",
   "name": "python",
   "nbconvert_exporter": "python",
   "pygments_lexer": "ipython3",
   "version": "3.9.12"
  }
 },
 "nbformat": 4,
 "nbformat_minor": 5
}
