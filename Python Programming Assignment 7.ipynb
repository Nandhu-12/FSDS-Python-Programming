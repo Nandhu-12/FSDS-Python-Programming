{
 "cells": [
  {
   "cell_type": "markdown",
   "id": "05ce0a46",
   "metadata": {},
   "source": [
    "# Python Programming Assignment 7"
   ]
  },
  {
   "cell_type": "markdown",
   "id": "dc7f8f73",
   "metadata": {},
   "source": [
    "# 1) Write a Python Program to find sum of array?"
   ]
  },
  {
   "cell_type": "code",
   "execution_count": 1,
   "id": "c442e406",
   "metadata": {},
   "outputs": [
    {
     "data": {
      "text/plain": [
       "15"
      ]
     },
     "execution_count": 1,
     "metadata": {},
     "output_type": "execute_result"
    }
   ],
   "source": [
    "import numpy as np\n",
    "\n",
    "def ar_sum(arr):\n",
    "    result = sum(arr)\n",
    "    return result\n",
    "        \n",
    "arr = np.array([1,2,3,4,5])\n",
    "ar_sum(arr)"
   ]
  },
  {
   "cell_type": "markdown",
   "id": "e8a8cd64",
   "metadata": {},
   "source": [
    "# 2) Write a Python Program to find largest element in an array?"
   ]
  },
  {
   "cell_type": "code",
   "execution_count": 2,
   "id": "977a3af0",
   "metadata": {},
   "outputs": [
    {
     "data": {
      "text/plain": [
       "1000"
      ]
     },
     "execution_count": 2,
     "metadata": {},
     "output_type": "execute_result"
    }
   ],
   "source": [
    "import numpy as np\n",
    "\n",
    "def largest_element(arr):\n",
    "    result = sorted(arr, reverse=True)\n",
    "    return result[0]\n",
    "        \n",
    "arr = np.array([15,0,1,100,20,1000])\n",
    "largest_element(arr)"
   ]
  },
  {
   "cell_type": "markdown",
   "id": "bd988802",
   "metadata": {},
   "source": [
    "# 3) Write a Python Program for array rotation?"
   ]
  },
  {
   "cell_type": "code",
   "execution_count": 3,
   "id": "d5fcdb07",
   "metadata": {},
   "outputs": [
    {
     "data": {
      "text/plain": [
       "array([ 3,  4,  5,  6,  7,  8,  9, 10,  1,  2])"
      ]
     },
     "execution_count": 3,
     "metadata": {},
     "output_type": "execute_result"
    }
   ],
   "source": [
    "import numpy as np\n",
    "\n",
    "def array_rotation(arr,d,n):\n",
    "    temp = []\n",
    "    i = 0\n",
    "    while (i < d):\n",
    "        temp.append(arr[i])\n",
    "        i = i + 1\n",
    "    i = 0\n",
    "    while (d < n):\n",
    "        arr[i] = arr[d]\n",
    "        i = i + 1\n",
    "        d = d + 1\n",
    "    \n",
    "    arr[-2] = temp[0]\n",
    "    arr[-1] = temp[1]\n",
    "    return arr\n",
    "        \n",
    "arr = np.array([1,2,3,4,5,6,7,8,9,10])\n",
    "d = 2\n",
    "n = len(arr)\n",
    "array_rotation(arr,d,n)"
   ]
  },
  {
   "cell_type": "markdown",
   "id": "977fbad0",
   "metadata": {},
   "source": [
    "# 4) Write a Python Program to check if given array is Monotonic?"
   ]
  },
  {
   "cell_type": "code",
   "execution_count": 4,
   "id": "57e9ff3e",
   "metadata": {},
   "outputs": [
    {
     "data": {
      "text/plain": [
       "True"
      ]
     },
     "execution_count": 4,
     "metadata": {},
     "output_type": "execute_result"
    }
   ],
   "source": [
    "import numpy as np\n",
    "\n",
    "def monotonic(arr):\n",
    "    a,b = [],[]\n",
    "    a.extend(arr)\n",
    "    b.extend(arr)\n",
    "    \n",
    "    a.sort()\n",
    "    b.sort(reverse=True)\n",
    "    \n",
    "    if(a == arr or b == arr):\n",
    "        return True\n",
    "    else:\n",
    "        return False\n",
    "    \n",
    "\n",
    "arr = [10,9,8,8]\n",
    "monotonic(arr)"
   ]
  },
  {
   "cell_type": "code",
   "execution_count": null,
   "id": "3a2971da",
   "metadata": {},
   "outputs": [],
   "source": []
  }
 ],
 "metadata": {
  "kernelspec": {
   "display_name": "Python 3 (ipykernel)",
   "language": "python",
   "name": "python3"
  },
  "language_info": {
   "codemirror_mode": {
    "name": "ipython",
    "version": 3
   },
   "file_extension": ".py",
   "mimetype": "text/x-python",
   "name": "python",
   "nbconvert_exporter": "python",
   "pygments_lexer": "ipython3",
   "version": "3.9.12"
  }
 },
 "nbformat": 4,
 "nbformat_minor": 5
}
