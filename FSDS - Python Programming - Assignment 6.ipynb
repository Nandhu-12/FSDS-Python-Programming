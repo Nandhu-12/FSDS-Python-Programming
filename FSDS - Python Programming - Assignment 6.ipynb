{
 "cells": [
  {
   "cell_type": "markdown",
   "id": "33304c9d",
   "metadata": {},
   "source": [
    "# FSDS - Python Programming - Assignment 6"
   ]
  },
  {
   "cell_type": "markdown",
   "id": "7c8fd3ae",
   "metadata": {},
   "source": [
    "1. Write a Python Program to Display Fibonacci Sequence Using Recursion?"
   ]
  },
  {
   "cell_type": "code",
   "execution_count": 10,
   "id": "a7b45d61",
   "metadata": {},
   "outputs": [
    {
     "name": "stdout",
     "output_type": "stream",
     "text": [
      "0,1,1,2,3,5,8,13,21,34,"
     ]
    }
   ],
   "source": [
    "def fib(i):\n",
    "    if i <= 1:\n",
    "        return i\n",
    "    else :\n",
    "        return fib(i-1) + fib(i-2)\n",
    "    \n",
    "for i in range(10):\n",
    "    print(fib(i),end = ',')\n",
    "    \n"
   ]
  },
  {
   "cell_type": "markdown",
   "id": "90c2a285",
   "metadata": {},
   "source": [
    "2. Write a Python Program to Find Factorial of Number Using Recursion?"
   ]
  },
  {
   "cell_type": "code",
   "execution_count": 12,
   "id": "7b0ce350",
   "metadata": {},
   "outputs": [
    {
     "data": {
      "text/plain": [
       "120"
      ]
     },
     "execution_count": 12,
     "metadata": {},
     "output_type": "execute_result"
    }
   ],
   "source": [
    "def factorial(n):\n",
    "    if n == 1 :\n",
    "        return n\n",
    "    else:\n",
    "        return n * factorial(n-1)\n",
    "    \n",
    "factorial(5)"
   ]
  },
  {
   "cell_type": "markdown",
   "id": "713feff6",
   "metadata": {},
   "source": [
    "3. Write a Python Program to calculate your Body Mass Index?"
   ]
  },
  {
   "cell_type": "code",
   "execution_count": 28,
   "id": "e149b9e2",
   "metadata": {},
   "outputs": [
    {
     "name": "stdout",
     "output_type": "stream",
     "text": [
      "74\n",
      "164\n",
      "27.51\n"
     ]
    }
   ],
   "source": [
    "height = float(input())\n",
    "weight = float(input())\n",
    "weight_in_m = weight/100\n",
    "bmi = height /(weight_in_m*weight_in_m)\n",
    "print(f'{bmi:.2f}')"
   ]
  },
  {
   "cell_type": "markdown",
   "id": "7611244f",
   "metadata": {},
   "source": [
    "4. Write a Python Program to calculate the natural logarithm of any number?"
   ]
  },
  {
   "cell_type": "code",
   "execution_count": 30,
   "id": "c21b208c",
   "metadata": {},
   "outputs": [
    {
     "name": "stdout",
     "output_type": "stream",
     "text": [
      "2.0\n"
     ]
    }
   ],
   "source": [
    "import math\n",
    "\n",
    "base = 10\n",
    "a = 100\n",
    "print(math.log(a,base))\n"
   ]
  },
  {
   "cell_type": "markdown",
   "id": "c685af93",
   "metadata": {},
   "source": [
    "5. Write a Python Program for cube sum of first n natural numbers?"
   ]
  },
  {
   "cell_type": "code",
   "execution_count": 32,
   "id": "d851cc11",
   "metadata": {},
   "outputs": [
    {
     "name": "stdout",
     "output_type": "stream",
     "text": [
      "5\n",
      "3375\n"
     ]
    }
   ],
   "source": [
    "n = int(input())\n",
    "s = 0\n",
    "while n > 0:\n",
    "    s += n\n",
    "    n -= 1\n",
    "print(s**3)"
   ]
  },
  {
   "cell_type": "code",
   "execution_count": null,
   "id": "41778211",
   "metadata": {},
   "outputs": [],
   "source": []
  }
 ],
 "metadata": {
  "kernelspec": {
   "display_name": "Python 3 (ipykernel)",
   "language": "python",
   "name": "python3"
  },
  "language_info": {
   "codemirror_mode": {
    "name": "ipython",
    "version": 3
   },
   "file_extension": ".py",
   "mimetype": "text/x-python",
   "name": "python",
   "nbconvert_exporter": "python",
   "pygments_lexer": "ipython3",
   "version": "3.9.12"
  }
 },
 "nbformat": 4,
 "nbformat_minor": 5
}
